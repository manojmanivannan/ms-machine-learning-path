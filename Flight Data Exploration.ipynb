{
 "cells": [
  {
   "cell_type": "code",
   "execution_count": 10,
   "id": "a142c8ca",
   "metadata": {},
   "outputs": [],
   "source": [
    "# Importing all necessary packages at the start of the notebook\n",
    "import pandas as pd\n",
    "import scipy.stats as stats\n",
    "from matplotlib import pyplot as plt\n",
    "%matplotlib inline\n",
    "import urllib.request\n",
    "from os.path import exists\n",
    "from sklearn.preprocessing import MinMaxScaler\n",
    "from helper_functions import *"
   ]
  },
  {
   "cell_type": "code",
   "execution_count": 11,
   "id": "3892fcfd",
   "metadata": {},
   "outputs": [
    {
     "name": "stdout",
     "output_type": "stream",
     "text": [
      "dataset/explore/flights.csv file already present\n"
     ]
    }
   ],
   "source": [
    "url = 'https://github.com/MicrosoftDocs/ml-basics/raw/master/challenges/data/flights.csv'\n",
    "filename = 'dataset/explore/flights.csv'\n",
    "if not exists(filename):\n",
    "    urllib.request.urlretrieve(url, filename)\n",
    "else:\n",
    "    print(f'{filename} file already present')"
   ]
  },
  {
   "cell_type": "code",
   "execution_count": 12,
   "id": "2d14690e",
   "metadata": {},
   "outputs": [],
   "source": [
    "df = pd.read_csv(filename)"
   ]
  },
  {
   "cell_type": "code",
   "execution_count": 13,
   "id": "0955f7df",
   "metadata": {},
   "outputs": [
    {
     "data": {
      "text/plain": [
       "Year                 False\n",
       "Month                False\n",
       "DayofMonth           False\n",
       "DayOfWeek            False\n",
       "Carrier              False\n",
       "OriginAirportID      False\n",
       "OriginAirportName    False\n",
       "OriginCity           False\n",
       "OriginState          False\n",
       "DestAirportID        False\n",
       "DestAirportName      False\n",
       "DestCity             False\n",
       "DestState            False\n",
       "CRSDepTime           False\n",
       "DepDelay             False\n",
       "DepDel15              True\n",
       "CRSArrTime           False\n",
       "ArrDelay             False\n",
       "ArrDel15             False\n",
       "Cancelled            False\n",
       "dtype: bool"
      ]
     },
     "execution_count": 13,
     "metadata": {},
     "output_type": "execute_result"
    }
   ],
   "source": [
    "df.isnull().any()"
   ]
  },
  {
   "cell_type": "code",
   "execution_count": null,
   "id": "01e5b72d",
   "metadata": {},
   "outputs": [],
   "source": [
    "# Since DepDel15 contains null values, we will try to impute the values from that column\n"
   ]
  }
 ],
 "metadata": {
  "kernelspec": {
   "display_name": "Python 3 (ipykernel)",
   "language": "python",
   "name": "python3"
  },
  "language_info": {
   "codemirror_mode": {
    "name": "ipython",
    "version": 3
   },
   "file_extension": ".py",
   "mimetype": "text/x-python",
   "name": "python",
   "nbconvert_exporter": "python",
   "pygments_lexer": "ipython3",
   "version": "3.7.9"
  }
 },
 "nbformat": 4,
 "nbformat_minor": 5
}
